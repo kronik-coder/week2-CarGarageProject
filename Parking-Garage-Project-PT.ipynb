{
 "cells": [
  {
   "cell_type": "markdown",
   "metadata": {},
   "source": [
    "# Parking Garage Project\n",
    "\n",
    "Your assignment for today is to create a parking garage class to get more familiar with Object Oriented Programming(OOP). \n",
    "\n",
    "Your parking gargage class should have the following methods:\n",
    "- takeTicket\n",
    "   - This should decrease the amount of tickets available by 1\n",
    "   - This should decrease the amount of parkingSpaces available by 1\n",
    "- payForParking\n",
    "   - Display an input that waits for an amount from the user and store it in a variable\n",
    "   - If the payment variable is not empty then ->  display a message to the user that their ticket has been paid and they have 15mins to leave\n",
    "   - This should update the \"currentTicket\" dictionary key \"paid\" to True\n",
    "- leaveGarage\n",
    "   - If the ticket has been paid, display a message of \"Thank You, have a nice day\"\n",
    "   - If the ticket has not been paid, display an input prompt for payment\n",
    "      - Once paid, display message \"Thank you, have a nice day!\"\n",
    "   - Update parkingSpaces list to increase by 1\n",
    "   - Update tickets list to increase by 1\n",
    "\n",
    "You will need a few attributes as well:\n",
    "- tickets -> list\n",
    "- parkingSpaces -> list\n",
    "- currentTicket -> dictionary"
   ]
  },
  {
   "cell_type": "code",
   "execution_count": 1,
   "metadata": {},
   "outputs": [
    {
     "name": "stdout",
     "output_type": "stream",
     "text": [
      "There are 100 tickets and 100 parking spaces left\n",
      "Would you like to buy a ticket? yes/no  d\n",
      "Invalid answer!\n",
      "Would you like to buy a ticket? yes/no  j\n",
      "Invalid answer!\n",
      "Would you like to buy a ticket? yes/no  yes\n",
      "How many tickets? 5\n",
      "How many spaces? d\n"
     ]
    },
    {
     "ename": "ValueError",
     "evalue": "invalid literal for int() with base 10: 'd'",
     "output_type": "error",
     "traceback": [
      "\u001b[1;31m---------------------------------------------------------------------------\u001b[0m",
      "\u001b[1;31mValueError\u001b[0m                                Traceback (most recent call last)",
      "\u001b[1;32m~\\AppData\\Local\\Temp/ipykernel_43124/1227642156.py\u001b[0m in \u001b[0;36m<module>\u001b[1;34m\u001b[0m\n\u001b[0;32m     40\u001b[0m \u001b[1;33m\u001b[0m\u001b[0m\n\u001b[0;32m     41\u001b[0m \u001b[0mgarage\u001b[0m \u001b[1;33m=\u001b[0m \u001b[0mParkingGarage\u001b[0m\u001b[1;33m(\u001b[0m\u001b[1;33m)\u001b[0m\u001b[1;33m\u001b[0m\u001b[1;33m\u001b[0m\u001b[0m\n\u001b[1;32m---> 42\u001b[1;33m \u001b[0mgarage\u001b[0m\u001b[1;33m.\u001b[0m\u001b[0mpay_for_parking\u001b[0m\u001b[1;33m(\u001b[0m\u001b[1;33m)\u001b[0m\u001b[1;33m\u001b[0m\u001b[1;33m\u001b[0m\u001b[0m\n\u001b[0m",
      "\u001b[1;32m~\\AppData\\Local\\Temp/ipykernel_43124/1227642156.py\u001b[0m in \u001b[0;36mpay_for_parking\u001b[1;34m(self)\u001b[0m\n\u001b[0;32m     25\u001b[0m             \u001b[1;32mif\u001b[0m \u001b[0mbuy\u001b[0m \u001b[1;33m==\u001b[0m \u001b[1;34m'yes'\u001b[0m\u001b[1;33m:\u001b[0m\u001b[1;33m\u001b[0m\u001b[1;33m\u001b[0m\u001b[0m\n\u001b[0;32m     26\u001b[0m                 \u001b[0mnum_tickets\u001b[0m \u001b[1;33m=\u001b[0m \u001b[0mint\u001b[0m\u001b[1;33m(\u001b[0m\u001b[0minput\u001b[0m\u001b[1;33m(\u001b[0m\u001b[1;34m\"How many tickets? \"\u001b[0m\u001b[1;33m)\u001b[0m\u001b[1;33m)\u001b[0m\u001b[1;33m\u001b[0m\u001b[1;33m\u001b[0m\u001b[0m\n\u001b[1;32m---> 27\u001b[1;33m                 \u001b[0mnum_spaces\u001b[0m \u001b[1;33m=\u001b[0m \u001b[0mint\u001b[0m\u001b[1;33m(\u001b[0m\u001b[0minput\u001b[0m\u001b[1;33m(\u001b[0m\u001b[1;34m\"How many spaces? \"\u001b[0m\u001b[1;33m)\u001b[0m\u001b[1;33m)\u001b[0m\u001b[1;33m\u001b[0m\u001b[1;33m\u001b[0m\u001b[0m\n\u001b[0m\u001b[0;32m     28\u001b[0m                 \u001b[0mgarage\u001b[0m\u001b[1;33m.\u001b[0m\u001b[0mtake_ticket\u001b[0m\u001b[1;33m(\u001b[0m\u001b[0mnum_tickets\u001b[0m\u001b[1;33m,\u001b[0m \u001b[0mnum_spaces\u001b[0m\u001b[1;33m)\u001b[0m\u001b[1;33m\u001b[0m\u001b[1;33m\u001b[0m\u001b[0m\n\u001b[0;32m     29\u001b[0m             \u001b[1;32melif\u001b[0m \u001b[0mbuy\u001b[0m \u001b[1;33m==\u001b[0m \u001b[1;34m'no'\u001b[0m\u001b[1;33m:\u001b[0m\u001b[1;33m\u001b[0m\u001b[1;33m\u001b[0m\u001b[0m\n",
      "\u001b[1;31mValueError\u001b[0m: invalid literal for int() with base 10: 'd'"
     ]
    }
   ],
   "source": [
    "#Start your code here...\n",
    "\n",
    "tickets = list(range(1, 100))\n",
    "parking_spaces = list(range(1, 100))\n",
    "current_ticket = {\n",
    "    \"paid\": False\n",
    "}\n",
    "class ParkingGarage():\n",
    "    def take_ticket(self, num_tickets, num_spaces):\n",
    "        for i in range(1, num_tickets + 1):\n",
    "            tickets.pop()\n",
    "        for i in range(1, num_spaces + 1):\n",
    "            parking_spaces.pop()\n",
    "        print(f\"There are {len(tickets) + 1} tickets and {len(parking_spaces) + 1} parking spaces left\")\n",
    "        payment = input(\"Would you like to pay now? yes/no \")\n",
    "        if payment == \"yes\":\n",
    "            current_ticket[\"paid\"] = True\n",
    "        elif payment == \"no\":\n",
    "            current_ticket[\"paid\"] = False\n",
    "        garage.leave_garage(payment)\n",
    "    def pay_for_parking(self):\n",
    "        print(f\"There are {len(tickets) + 1} tickets and {len(parking_spaces) + 1} parking spaces left\")\n",
    "        while True:\n",
    "            buy = input(\"Would you like to buy a ticket? yes/no  \")\n",
    "            if buy == 'yes':\n",
    "                num_tickets = int(input(\"How many tickets? \"))\n",
    "                num_spaces = int(input(\"How many spaces? \"))\n",
    "                garage.take_ticket(num_tickets, num_spaces)\n",
    "            elif buy == 'no':\n",
    "                print(\"Have a nice day!\")\n",
    "            else:\n",
    "                print(\"Invalid answer!\")\n",
    "    def leave_garage(self, payment):\n",
    "        if current_ticket[\"paid\"] == True:\n",
    "            print(\"You may now leave the garage!\")\n",
    "        elif current_ticket[\"paid\"] == False:\n",
    "            pay = input(\"Type 'pay' to pay now!\")\n",
    "            if pay == 'pay':\n",
    "                print(\"You may now leave the garage!\")\n",
    "\n",
    "garage = ParkingGarage()\n",
    "garage.pay_for_parking()"
   ]
  },
  {
   "cell_type": "code",
   "execution_count": null,
   "metadata": {},
   "outputs": [],
   "source": []
  },
  {
   "cell_type": "code",
   "execution_count": null,
   "metadata": {},
   "outputs": [],
   "source": []
  }
 ],
 "metadata": {
  "kernelspec": {
   "display_name": "Python 3 (ipykernel)",
   "language": "python",
   "name": "python3"
  },
  "language_info": {
   "codemirror_mode": {
    "name": "ipython",
    "version": 3
   },
   "file_extension": ".py",
   "mimetype": "text/x-python",
   "name": "python",
   "nbconvert_exporter": "python",
   "pygments_lexer": "ipython3",
   "version": "3.8.8"
  }
 },
 "nbformat": 4,
 "nbformat_minor": 2
}
